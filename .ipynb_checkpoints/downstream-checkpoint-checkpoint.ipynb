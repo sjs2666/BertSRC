{
 "cells": [
  {
   "cell_type": "code",
   "execution_count": null,
   "metadata": {
    "colab": {
     "base_uri": "https://localhost:8080/"
    },
    "executionInfo": {
     "elapsed": 8544,
     "status": "ok",
     "timestamp": 1633165095185,
     "user": {
      "displayName": "‍이예원(대학원학생/일반대학원 문헌정보학과)",
      "photoUrl": "https://lh3.googleusercontent.com/a-/AOh14GgSUfRBZFCoL4X0XpBAaTkeqT7Xj4ZlPK2qwn3onQ=s64",
      "userId": "06448474586965587349"
     },
     "user_tz": -540
    },
    "id": "O3ofJ7fo7oCW",
    "outputId": "f835c6b7-7447-4c54-e792-df5d691e8522"
   },
   "outputs": [],
   "source": [
    "!pip install transformers"
   ]
  },
  {
   "cell_type": "code",
   "execution_count": null,
   "metadata": {
    "id": "PY2sVE0it03l"
   },
   "outputs": [],
   "source": [
    "import numpy as np\n",
    "import pandas as pd\n",
    "import torch\n",
    "import torch.nn as nn\n",
    "from torch.nn import CrossEntropyLoss, MSELoss\n",
    "from transformers import AutoModel, AutoTokenizer, BertTokenizer, BertForSequenceClassification, BertPreTrainedModel, BertModel\n",
    "from transformers import Trainer, TrainingArguments\n",
    "from sklearn.preprocessing import LabelEncoder\n",
    "from sklearn.model_selection import train_test_split\n",
    "from sklearn.metrics import classification_report\n",
    "from sklearn.metrics import precision_recall_fscore_support, accuracy_score"
   ]
  },
  {
   "cell_type": "code",
   "execution_count": null,
   "metadata": {
    "id": "Al8zw7Z0t03p"
   },
   "outputs": [],
   "source": [
    "df = pd.read_csv('/content/drive/MyDrive/손진석/new_data.txt', sep='\\t', header=None)\n",
    "df_train, df_test = train_test_split(df, test_size=.2, stratify=df[16], random_state=0)"
   ]
  },
  {
   "cell_type": "code",
   "execution_count": null,
   "metadata": {
    "colab": {
     "base_uri": "https://localhost:8080/"
    },
    "executionInfo": {
     "elapsed": 36950,
     "status": "ok",
     "timestamp": 1633165157111,
     "user": {
      "displayName": "‍이예원(대학원학생/일반대학원 문헌정보학과)",
      "photoUrl": "https://lh3.googleusercontent.com/a-/AOh14GgSUfRBZFCoL4X0XpBAaTkeqT7Xj4ZlPK2qwn3onQ=s64",
      "userId": "06448474586965587349"
     },
     "user_tz": -540
    },
    "id": "Nmc6IcyaN6oG",
    "outputId": "25f46101-c95b-4f1b-9d3e-8f7f26bcd91b"
   },
   "outputs": [],
   "source": [
    "from google.colab import drive\n",
    "drive.mount('/content/drive')"
   ]
  },
  {
   "cell_type": "code",
   "execution_count": null,
   "metadata": {
    "colab": {
     "base_uri": "https://localhost:8080/",
     "height": 573
    },
    "executionInfo": {
     "elapsed": 234,
     "status": "ok",
     "timestamp": 1633165165450,
     "user": {
      "displayName": "‍이예원(대학원학생/일반대학원 문헌정보학과)",
      "photoUrl": "https://lh3.googleusercontent.com/a-/AOh14GgSUfRBZFCoL4X0XpBAaTkeqT7Xj4ZlPK2qwn3onQ=s64",
      "userId": "06448474586965587349"
     },
     "user_tz": -540
    },
    "id": "n3vIvt6Ht03p",
    "outputId": "1d04e781-7cc5-4834-cf0b-d5b0fc265cae"
   },
   "outputs": [],
   "source": [
    "df.head()"
   ]
  },
  {
   "cell_type": "code",
   "execution_count": null,
   "metadata": {
    "colab": {
     "base_uri": "https://localhost:8080/"
    },
    "executionInfo": {
     "elapsed": 226,
     "status": "ok",
     "timestamp": 1633165168832,
     "user": {
      "displayName": "‍이예원(대학원학생/일반대학원 문헌정보학과)",
      "photoUrl": "https://lh3.googleusercontent.com/a-/AOh14GgSUfRBZFCoL4X0XpBAaTkeqT7Xj4ZlPK2qwn3onQ=s64",
      "userId": "06448474586965587349"
     },
     "user_tz": -540
    },
    "id": "YpChpwE1t03q",
    "outputId": "7692e2ef-2727-4f95-8152-ec8e55e475e7"
   },
   "outputs": [],
   "source": [
    "from collections import Counter\n",
    "Counter(df[16])"
   ]
  },
  {
   "cell_type": "code",
   "execution_count": null,
   "metadata": {
    "id": "_DYQuvR9t03q"
   },
   "outputs": [],
   "source": [
    "X1 = df.apply(lambda x : x[14].replace(x[3].strip(), '[MASK]'), axis=1).tolist()\n",
    "X2 = df.apply(lambda x : x[14].replace(x[8].strip(), '[MASK]'), axis=1).tolist()\n",
    "label_encoder = LabelEncoder()\n",
    "y = torch.tensor(label_encoder.fit_transform(df[16]), dtype=torch.long).to('cuda')"
   ]
  },
  {
   "cell_type": "code",
   "execution_count": null,
   "metadata": {
    "colab": {
     "base_uri": "https://localhost:8080/"
    },
    "executionInfo": {
     "elapsed": 227,
     "status": "ok",
     "timestamp": 1633165202580,
     "user": {
      "displayName": "‍이예원(대학원학생/일반대학원 문헌정보학과)",
      "photoUrl": "https://lh3.googleusercontent.com/a-/AOh14GgSUfRBZFCoL4X0XpBAaTkeqT7Xj4ZlPK2qwn3onQ=s64",
      "userId": "06448474586965587349"
     },
     "user_tz": -540
    },
    "id": "1moEqJ8Lt03r",
    "outputId": "635e6e28-c3b5-4902-ace4-e4dc727046fb"
   },
   "outputs": [],
   "source": [
    "label_encoder.classes_"
   ]
  },
  {
   "cell_type": "code",
   "execution_count": null,
   "metadata": {
    "colab": {
     "base_uri": "https://localhost:8080/",
     "height": 81,
     "referenced_widgets": [
      "3358d4d09c3541238e956dbab0ef1851",
      "d33375937e49459ca2b5add12b14ac98",
      "63c6a537f7d543f6a3300efb5757f382",
      "0eb6441c855a49cfbec527a141a5dcd3",
      "14f026877b1f4ec4811c007ae9571883",
      "e22dda3f64d84592ba31cc185eb31b89",
      "bd5267a23b6f42f8b6ebbf7ea6dacc3a",
      "ae08364b30584a059e9bf34a492a976d",
      "fdc2dd90e3924839bc34407d81373f35",
      "f688343d161c4c89989fb52f452c9393",
      "090a2558ec2d48dabc60265c0d0179c8",
      "a9cf8a8164614074924ce621f5278b6c",
      "c2c4e6b25caa45d599b7ae148161fa7d",
      "3cbcfaed137844ffbcaf2c10e4d8003e",
      "8733b1f4ff274b288d7f53af46dbcfe3",
      "a6e3ffd7684f49d2830fb51472c100eb",
      "95ddcec769274370b196e78dee2cdbd5",
      "26a077b3d78144c28bd07c5a8ed11d78",
      "52ade58217cf467d82a5fa681a879e95",
      "b71189e9fc074054adc2969bed856f79",
      "d8277ba75efa45e393bf5e1bca173035",
      "350248e0b6564fde9e5bc1d4e3d4b170"
     ]
    },
    "executionInfo": {
     "elapsed": 1625,
     "status": "ok",
     "timestamp": 1633165214151,
     "user": {
      "displayName": "‍이예원(대학원학생/일반대학원 문헌정보학과)",
      "photoUrl": "https://lh3.googleusercontent.com/a-/AOh14GgSUfRBZFCoL4X0XpBAaTkeqT7Xj4ZlPK2qwn3onQ=s64",
      "userId": "06448474586965587349"
     },
     "user_tz": -540
    },
    "id": "dbNg8rgVt03r",
    "outputId": "5c227155-a867-4836-bcc1-06876f3e067f"
   },
   "outputs": [],
   "source": [
    "tokenizer = BertTokenizer.from_pretrained(\"allenai/scibert_scivocab_cased\")"
   ]
  },
  {
   "cell_type": "code",
   "execution_count": null,
   "metadata": {
    "id": "ZIZtFK_at03r"
   },
   "outputs": [],
   "source": [
    "# tokenizer.save_vocabulary('./vocab.txt')"
   ]
  },
  {
   "cell_type": "code",
   "execution_count": null,
   "metadata": {
    "id": "Q3v81YHjt03r"
   },
   "outputs": [],
   "source": [
    "class MySequenceClassification(BertPreTrainedModel):\n",
    "    def __init__(self, config):\n",
    "        super().__init__(config)\n",
    "        self.num_labels = config.num_labels\n",
    "\n",
    "        self.bert = BertModel(config)\n",
    "        self.dropout = nn.Dropout(config.hidden_dropout_prob)\n",
    "        self.tanh = nn.Tanh()\n",
    "        self.hiden_layer = nn.Linear(config.hidden_size * 3, config.hidden_size * 3)\n",
    "        self.classifier = nn.Linear(config.hidden_size * 3, config.num_labels)\n",
    "\n",
    "        self.init_weights()\n",
    "\n",
    "    def forward(\n",
    "        self,\n",
    "        input_ids=None,\n",
    "        attention_mask=None,\n",
    "        token_type_ids=None,\n",
    "        position_ids=None,\n",
    "        head_mask=None,\n",
    "        inputs_embeds=None,\n",
    "        labels=None,\n",
    "        output_attentions=None,\n",
    "        output_hidden_states=None,\n",
    "    ):\n",
    "\n",
    "        \n",
    "        outputs = self.bert(\n",
    "            input_ids,\n",
    "            attention_mask=attention_mask,\n",
    "            token_type_ids=token_type_ids,\n",
    "            position_ids=position_ids,\n",
    "            head_mask=head_mask,\n",
    "            inputs_embeds=inputs_embeds,\n",
    "            output_attentions=output_attentions,\n",
    "            output_hidden_states=output_hidden_states,\n",
    "        )\n",
    "\n",
    "#         pooled_output = outputs[1]\n",
    "#         output = self.dropout(pooled_output)\n",
    "#         logits = self.classifier(pooled_output)\n",
    "\n",
    "        check = input_ids == tokenizer.mask_token_id \n",
    "        check[:, 0] = True\n",
    "        \n",
    "        output = torch.reshape(outputs[0][check], (-1, 3 * 768))\n",
    "        output = self.hiden_layer(output)\n",
    "        output = self.tanh(output)\n",
    "        output = self.dropout(output)\n",
    "        logits = self.classifier(output)\n",
    "\n",
    "        outputs = (logits,) + outputs[2:]  # add hidden states and attention if they are here\n",
    "\n",
    "        if labels is not None:\n",
    "            if self.num_labels == 1:\n",
    "                #  We are doing regression\n",
    "                loss_fct = MSELoss()\n",
    "                loss = loss_fct(logits.view(-1), labels.view(-1))\n",
    "            else:\n",
    "                loss_fct = CrossEntropyLoss()\n",
    "                loss = loss_fct(logits.view(-1, self.num_labels), labels.view(-1))\n",
    "            outputs = (loss,) + outputs\n",
    "\n",
    "        return outputs  # (loss), logits, (hidden_states), (attentions)"
   ]
  },
  {
   "cell_type": "code",
   "execution_count": null,
   "metadata": {
    "colab": {
     "base_uri": "https://localhost:8080/",
     "height": 173,
     "referenced_widgets": [
      "32d9939989924be2b1a07fb8c02d5cd7",
      "c127437fc26044108d77312ff3ea3b32",
      "00278b12e24a4a4eb51e030aad287571",
      "eff099adefca4f78a6754de43a9edfb0",
      "f1220c8e1df945b09d27ebdccc1a3659",
      "52504c5b3c244ed6afc23e09e2dd0427",
      "b2510150c1ef464fb267494b376fe4fb",
      "ee00f4cb7aaf441fa2eab188ecab3d09",
      "64814db20fe34c1ea63ae99de70c5276",
      "bcddef53000f44758d8728643120f9e2",
      "9ca6ed974c1740f8afb02b80a7234089"
     ]
    },
    "executionInfo": {
     "elapsed": 17491,
     "status": "ok",
     "timestamp": 1633165262172,
     "user": {
      "displayName": "‍이예원(대학원학생/일반대학원 문헌정보학과)",
      "photoUrl": "https://lh3.googleusercontent.com/a-/AOh14GgSUfRBZFCoL4X0XpBAaTkeqT7Xj4ZlPK2qwn3onQ=s64",
      "userId": "06448474586965587349"
     },
     "user_tz": -540
    },
    "id": "5KIXnEHUt03s",
    "outputId": "4135a0d7-e99c-4f54-d1bb-ceec83727e9e",
    "scrolled": true,
    "tags": []
   },
   "outputs": [],
   "source": [
    "# model = MySequenceClassification.from_pretrained(\"allenai/scibert_scivocab_cased\", num_labels=10).to(\"cuda\")\n",
    "model = BertForSequenceClassification.from_pretrained(\"allenai/scibert_scivocab_cased\", num_labels=10, torchscript=True).to(\"cuda\")\n",
    "model.train()\n",
    "# model.eval()\n",
    "print('done')"
   ]
  },
  {
   "cell_type": "code",
   "execution_count": null,
   "metadata": {
    "id": "ouFhaODZt03s"
   },
   "outputs": [],
   "source": [
    "class MyDataset(torch.utils.data.Dataset):\n",
    "    def __init__(self, encodings, labels):\n",
    "        self.encodings = encodings\n",
    "        self.labels = labels\n",
    "\n",
    "    def __getitem__(self, idx):\n",
    "        item = {key: torch.tensor(val[idx]) for key, val in self.encodings.items()}\n",
    "        item['labels'] = torch.tensor(self.labels[idx])\n",
    "        return item\n",
    "\n",
    "    def __len__(self):\n",
    "        return len(self.labels)"
   ]
  },
  {
   "cell_type": "code",
   "execution_count": null,
   "metadata": {
    "id": "E-vsmFm2t03t"
   },
   "outputs": [],
   "source": [
    "X1_train, X1_test, y_train, y_test = train_test_split(X1, y, test_size=.2, stratify=df[16], random_state=0)\n",
    "X2_train, X2_test, y_train, y_test = train_test_split(X2, y, test_size=.2, stratify=df[16], random_state=0)"
   ]
  },
  {
   "cell_type": "code",
   "execution_count": null,
   "metadata": {
    "colab": {
     "base_uri": "https://localhost:8080/"
    },
    "executionInfo": {
     "elapsed": 9688,
     "status": "ok",
     "timestamp": 1633165287345,
     "user": {
      "displayName": "‍이예원(대학원학생/일반대학원 문헌정보학과)",
      "photoUrl": "https://lh3.googleusercontent.com/a-/AOh14GgSUfRBZFCoL4X0XpBAaTkeqT7Xj4ZlPK2qwn3onQ=s64",
      "userId": "06448474586965587349"
     },
     "user_tz": -540
    },
    "id": "60-Qt-Mht03t",
    "outputId": "aae5867d-8346-4171-8644-1f3404cdba3e"
   },
   "outputs": [],
   "source": [
    "encodings_train = tokenizer(X1_train, X2_train,  return_tensors='pt', padding=True, max_length=512)\n",
    "encodings_test = tokenizer(X1_test, X2_test,  return_tensors='pt', padding=True, max_length=512)"
   ]
  },
  {
   "cell_type": "code",
   "execution_count": null,
   "metadata": {
    "colab": {
     "base_uri": "https://localhost:8080/"
    },
    "executionInfo": {
     "elapsed": 245,
     "status": "ok",
     "timestamp": 1633165293950,
     "user": {
      "displayName": "‍이예원(대학원학생/일반대학원 문헌정보학과)",
      "photoUrl": "https://lh3.googleusercontent.com/a-/AOh14GgSUfRBZFCoL4X0XpBAaTkeqT7Xj4ZlPK2qwn3onQ=s64",
      "userId": "06448474586965587349"
     },
     "user_tz": -540
    },
    "id": "HKsTTxA-t03t",
    "outputId": "04c32391-c805-405d-f000-0e672e21c524",
    "tags": []
   },
   "outputs": [],
   "source": [
    "print(encodings_train['input_ids'].shape[1], encodings_test['input_ids'].shape[1])\n",
    "# max_length를 두 숫자 중 더 큰 숫자로 통일"
   ]
  },
  {
   "cell_type": "code",
   "execution_count": null,
   "metadata": {
    "id": "w3nxRz9At03u"
   },
   "outputs": [],
   "source": [
    "encodings_train = tokenizer(X1_train, X2_train,  return_tensors='pt', padding='max_length', max_length=277)\n",
    "encodings_test = tokenizer(X1_test, X2_test,  return_tensors='pt', padding='max_length', max_length=277)"
   ]
  },
  {
   "cell_type": "code",
   "execution_count": null,
   "metadata": {
    "id": "_nv1ZJ6it03u"
   },
   "outputs": [],
   "source": [
    "train_dataset = MyDataset(encodings_train, y_train)\n",
    "test_dataset = MyDataset(encodings_test, y_test)"
   ]
  },
  {
   "cell_type": "code",
   "execution_count": null,
   "metadata": {
    "id": "4dgNVX7mt03u"
   },
   "outputs": [],
   "source": [
    "def compute_metrics(pred):\n",
    "    labels = pred.label_ids\n",
    "    preds = pred.predictions.argmax(-1)\n",
    "    precision, recall, f1, _ = precision_recall_fscore_support(labels, preds, average='weighted')\n",
    "    acc = accuracy_score(labels, preds)\n",
    "    print(classification_report(labels, preds, digits=3))\n",
    "    return {\n",
    "        'accuracy': acc,\n",
    "        'f1': f1,\n",
    "        'precision': precision,\n",
    "        'recall': recall\n",
    "    }"
   ]
  },
  {
   "cell_type": "code",
   "execution_count": null,
   "metadata": {
    "colab": {
     "base_uri": "https://localhost:8080/"
    },
    "executionInfo": {
     "elapsed": 260,
     "status": "ok",
     "timestamp": 1633165496963,
     "user": {
      "displayName": "‍이예원(대학원학생/일반대학원 문헌정보학과)",
      "photoUrl": "https://lh3.googleusercontent.com/a-/AOh14GgSUfRBZFCoL4X0XpBAaTkeqT7Xj4ZlPK2qwn3onQ=s64",
      "userId": "06448474586965587349"
     },
     "user_tz": -540
    },
    "id": "AD3xTBOyt03v",
    "outputId": "b0a6d612-0f93-4c73-8690-bf4fc634257b"
   },
   "outputs": [],
   "source": [
    "training_args = TrainingArguments(\n",
    "    output_dir='./results',\n",
    "    do_train=True,\n",
    "    do_eval=True,\n",
    "    #evaluate_during_training=False,\n",
    "    num_train_epochs=10,\n",
    "    learning_rate=5e-5,\n",
    "    per_device_train_batch_size=16,\n",
    "    per_device_eval_batch_size=64,\n",
    "    warmup_steps=252,\n",
    "    weight_decay=0.01,\n",
    "  #   fp16=True,\n",
    "    logging_dir='./logs',\n",
    "    eval_steps=252\n",
    ")\n",
    "\n",
    "trainer = Trainer(\n",
    "    model=model,\n",
    "    args=training_args,\n",
    "    train_dataset=train_dataset,\n",
    "    eval_dataset=test_dataset,\n",
    "    compute_metrics=compute_metrics\n",
    ")"
   ]
  },
  {
   "cell_type": "code",
   "execution_count": null,
   "metadata": {
    "colab": {
     "base_uri": "https://localhost:8080/",
     "height": 522
    },
    "executionInfo": {
     "elapsed": 243,
     "status": "error",
     "timestamp": 1633165499022,
     "user": {
      "displayName": "‍이예원(대학원학생/일반대학원 문헌정보학과)",
      "photoUrl": "https://lh3.googleusercontent.com/a-/AOh14GgSUfRBZFCoL4X0XpBAaTkeqT7Xj4ZlPK2qwn3onQ=s64",
      "userId": "06448474586965587349"
     },
     "user_tz": -540
    },
    "id": "alKwEgMIt03v",
    "outputId": "a471ef17-8969-4aff-ef6e-0bc1b48f6412",
    "tags": []
   },
   "outputs": [],
   "source": [
    "trainer.train()"
   ]
  },
  {
   "cell_type": "code",
   "execution_count": null,
   "metadata": {
    "id": "eTaltrT3t03v"
   },
   "outputs": [],
   "source": [
    "# model = BertForSequenceClassification.from_pretrained(\"results/checkpoint-2500\")"
   ]
  },
  {
   "cell_type": "code",
   "execution_count": null,
   "metadata": {
    "colab": {
     "referenced_widgets": [
      "2e6faf804a4d44ffa9d05dfda8a80c26"
     ]
    },
    "id": "Bz-rvD8xt03v",
    "outputId": "e0c34654-4d6b-4e63-d7e5-6fca0c76ef5a",
    "tags": []
   },
   "outputs": [],
   "source": [
    "pred = trainer.predict(test_dataset)\n",
    "df_test['pred'] = label_encoder.inverse_transform(np.argmax(pred.predictions, axis=1))\n",
    "df_test.head()"
   ]
  },
  {
   "cell_type": "code",
   "execution_count": null,
   "metadata": {
    "id": "EewBffott03w"
   },
   "outputs": [],
   "source": [
    "# dummy_input = [encodings_train['input_ids'][2951:2953].cpu(), encodings_train['attention_mask'][2951:2953].cpu(), encodings_train['token_type_ids'][2951:2953].cpu()]\n",
    "\n",
    "# model.eval()\n",
    "\n",
    "# # If you are instantiating the model with `from_pretrained` you can also easily set the TorchScript flag\n",
    "# # model = BertForSequenceClassification.from_pretrained(\"results/checkpoint-2500\", torchscript=True)\n",
    "# # model.eval()\n",
    "\n",
    "# # Creating the trace\n",
    "# traced_model = torch.jit.trace(model.cpu(), dummy_input)\n",
    "# torch.jit.save(traced_model, \"./traced_bert2.pt\")"
   ]
  },
  {
   "cell_type": "code",
   "execution_count": null,
   "metadata": {
    "id": "N_4KuXl5t03w"
   },
   "outputs": [],
   "source": [
    "df_test['pred'] = label_encoder.inverse_transform(np.argmax(pred.predictions, axis=1))\n",
    "df_test.head()"
   ]
  }
 ],
 "metadata": {
  "accelerator": "GPU",
  "colab": {
   "name": "downstream-checkpoint.ipynb",
   "provenance": []
  },
  "kernelspec": {
   "display_name": "Python 3 (ipykernel)",
   "language": "python",
   "name": "python3"
  },
  "language_info": {
   "codemirror_mode": {
    "name": "ipython",
    "version": 3
   },
   "file_extension": ".py",
   "mimetype": "text/x-python",
   "name": "python",
   "nbconvert_exporter": "python",
   "pygments_lexer": "ipython3",
   "version": "3.8.12"
  },
  "widgets": {
   "application/vnd.jupyter.widget-state+json": {
    "00278b12e24a4a4eb51e030aad287571": {
     "model_module": "@jupyter-widgets/controls",
     "model_module_version": "1.5.0",
     "model_name": "HTMLModel",
     "state": {
      "_dom_classes": [],
      "_model_module": "@jupyter-widgets/controls",
      "_model_module_version": "1.5.0",
      "_model_name": "HTMLModel",
      "_view_count": null,
      "_view_module": "@jupyter-widgets/controls",
      "_view_module_version": "1.5.0",
      "_view_name": "HTMLView",
      "description": "",
      "description_tooltip": null,
      "layout": "IPY_MODEL_b2510150c1ef464fb267494b376fe4fb",
      "placeholder": "​",
      "style": "IPY_MODEL_52504c5b3c244ed6afc23e09e2dd0427",
      "value": "Downloading: 100%"
     }
    },
    "090a2558ec2d48dabc60265c0d0179c8": {
     "model_module": "@jupyter-widgets/base",
     "model_module_version": "1.2.0",
     "model_name": "LayoutModel",
     "state": {
      "_model_module": "@jupyter-widgets/base",
      "_model_module_version": "1.2.0",
      "_model_name": "LayoutModel",
      "_view_count": null,
      "_view_module": "@jupyter-widgets/base",
      "_view_module_version": "1.2.0",
      "_view_name": "LayoutView",
      "align_content": null,
      "align_items": null,
      "align_self": null,
      "border": null,
      "bottom": null,
      "display": null,
      "flex": null,
      "flex_flow": null,
      "grid_area": null,
      "grid_auto_columns": null,
      "grid_auto_flow": null,
      "grid_auto_rows": null,
      "grid_column": null,
      "grid_gap": null,
      "grid_row": null,
      "grid_template_areas": null,
      "grid_template_columns": null,
      "grid_template_rows": null,
      "height": null,
      "justify_content": null,
      "justify_items": null,
      "left": null,
      "margin": null,
      "max_height": null,
      "max_width": null,
      "min_height": null,
      "min_width": null,
      "object_fit": null,
      "object_position": null,
      "order": null,
      "overflow": null,
      "overflow_x": null,
      "overflow_y": null,
      "padding": null,
      "right": null,
      "top": null,
      "visibility": null,
      "width": null
     }
    },
    "0eb6441c855a49cfbec527a141a5dcd3": {
     "model_module": "@jupyter-widgets/controls",
     "model_module_version": "1.5.0",
     "model_name": "FloatProgressModel",
     "state": {
      "_dom_classes": [],
      "_model_module": "@jupyter-widgets/controls",
      "_model_module_version": "1.5.0",
      "_model_name": "FloatProgressModel",
      "_view_count": null,
      "_view_module": "@jupyter-widgets/controls",
      "_view_module_version": "1.5.0",
      "_view_name": "ProgressView",
      "bar_style": "success",
      "description": "",
      "description_tooltip": null,
      "layout": "IPY_MODEL_fdc2dd90e3924839bc34407d81373f35",
      "max": 222296,
      "min": 0,
      "orientation": "horizontal",
      "style": "IPY_MODEL_ae08364b30584a059e9bf34a492a976d",
      "value": 222296
     }
    },
    "14f026877b1f4ec4811c007ae9571883": {
     "model_module": "@jupyter-widgets/controls",
     "model_module_version": "1.5.0",
     "model_name": "HTMLModel",
     "state": {
      "_dom_classes": [],
      "_model_module": "@jupyter-widgets/controls",
      "_model_module_version": "1.5.0",
      "_model_name": "HTMLModel",
      "_view_count": null,
      "_view_module": "@jupyter-widgets/controls",
      "_view_module_version": "1.5.0",
      "_view_name": "HTMLView",
      "description": "",
      "description_tooltip": null,
      "layout": "IPY_MODEL_090a2558ec2d48dabc60265c0d0179c8",
      "placeholder": "​",
      "style": "IPY_MODEL_f688343d161c4c89989fb52f452c9393",
      "value": " 217k/217k [00:00&lt;00:00, 965kB/s]"
     }
    },
    "26a077b3d78144c28bd07c5a8ed11d78": {
     "model_module": "@jupyter-widgets/base",
     "model_module_version": "1.2.0",
     "model_name": "LayoutModel",
     "state": {
      "_model_module": "@jupyter-widgets/base",
      "_model_module_version": "1.2.0",
      "_model_name": "LayoutModel",
      "_view_count": null,
      "_view_module": "@jupyter-widgets/base",
      "_view_module_version": "1.2.0",
      "_view_name": "LayoutView",
      "align_content": null,
      "align_items": null,
      "align_self": null,
      "border": null,
      "bottom": null,
      "display": null,
      "flex": null,
      "flex_flow": null,
      "grid_area": null,
      "grid_auto_columns": null,
      "grid_auto_flow": null,
      "grid_auto_rows": null,
      "grid_column": null,
      "grid_gap": null,
      "grid_row": null,
      "grid_template_areas": null,
      "grid_template_columns": null,
      "grid_template_rows": null,
      "height": null,
      "justify_content": null,
      "justify_items": null,
      "left": null,
      "margin": null,
      "max_height": null,
      "max_width": null,
      "min_height": null,
      "min_width": null,
      "object_fit": null,
      "object_position": null,
      "order": null,
      "overflow": null,
      "overflow_x": null,
      "overflow_y": null,
      "padding": null,
      "right": null,
      "top": null,
      "visibility": null,
      "width": null
     }
    },
    "32d9939989924be2b1a07fb8c02d5cd7": {
     "model_module": "@jupyter-widgets/controls",
     "model_module_version": "1.5.0",
     "model_name": "HBoxModel",
     "state": {
      "_dom_classes": [],
      "_model_module": "@jupyter-widgets/controls",
      "_model_module_version": "1.5.0",
      "_model_name": "HBoxModel",
      "_view_count": null,
      "_view_module": "@jupyter-widgets/controls",
      "_view_module_version": "1.5.0",
      "_view_name": "HBoxView",
      "box_style": "",
      "children": [
       "IPY_MODEL_00278b12e24a4a4eb51e030aad287571",
       "IPY_MODEL_eff099adefca4f78a6754de43a9edfb0",
       "IPY_MODEL_f1220c8e1df945b09d27ebdccc1a3659"
      ],
      "layout": "IPY_MODEL_c127437fc26044108d77312ff3ea3b32"
     }
    },
    "3358d4d09c3541238e956dbab0ef1851": {
     "model_module": "@jupyter-widgets/controls",
     "model_module_version": "1.5.0",
     "model_name": "HBoxModel",
     "state": {
      "_dom_classes": [],
      "_model_module": "@jupyter-widgets/controls",
      "_model_module_version": "1.5.0",
      "_model_name": "HBoxModel",
      "_view_count": null,
      "_view_module": "@jupyter-widgets/controls",
      "_view_module_version": "1.5.0",
      "_view_name": "HBoxView",
      "box_style": "",
      "children": [
       "IPY_MODEL_63c6a537f7d543f6a3300efb5757f382",
       "IPY_MODEL_0eb6441c855a49cfbec527a141a5dcd3",
       "IPY_MODEL_14f026877b1f4ec4811c007ae9571883"
      ],
      "layout": "IPY_MODEL_d33375937e49459ca2b5add12b14ac98"
     }
    },
    "350248e0b6564fde9e5bc1d4e3d4b170": {
     "model_module": "@jupyter-widgets/base",
     "model_module_version": "1.2.0",
     "model_name": "LayoutModel",
     "state": {
      "_model_module": "@jupyter-widgets/base",
      "_model_module_version": "1.2.0",
      "_model_name": "LayoutModel",
      "_view_count": null,
      "_view_module": "@jupyter-widgets/base",
      "_view_module_version": "1.2.0",
      "_view_name": "LayoutView",
      "align_content": null,
      "align_items": null,
      "align_self": null,
      "border": null,
      "bottom": null,
      "display": null,
      "flex": null,
      "flex_flow": null,
      "grid_area": null,
      "grid_auto_columns": null,
      "grid_auto_flow": null,
      "grid_auto_rows": null,
      "grid_column": null,
      "grid_gap": null,
      "grid_row": null,
      "grid_template_areas": null,
      "grid_template_columns": null,
      "grid_template_rows": null,
      "height": null,
      "justify_content": null,
      "justify_items": null,
      "left": null,
      "margin": null,
      "max_height": null,
      "max_width": null,
      "min_height": null,
      "min_width": null,
      "object_fit": null,
      "object_position": null,
      "order": null,
      "overflow": null,
      "overflow_x": null,
      "overflow_y": null,
      "padding": null,
      "right": null,
      "top": null,
      "visibility": null,
      "width": null
     }
    },
    "3cbcfaed137844ffbcaf2c10e4d8003e": {
     "model_module": "@jupyter-widgets/controls",
     "model_module_version": "1.5.0",
     "model_name": "HTMLModel",
     "state": {
      "_dom_classes": [],
      "_model_module": "@jupyter-widgets/controls",
      "_model_module_version": "1.5.0",
      "_model_name": "HTMLModel",
      "_view_count": null,
      "_view_module": "@jupyter-widgets/controls",
      "_view_module_version": "1.5.0",
      "_view_name": "HTMLView",
      "description": "",
      "description_tooltip": null,
      "layout": "IPY_MODEL_26a077b3d78144c28bd07c5a8ed11d78",
      "placeholder": "​",
      "style": "IPY_MODEL_95ddcec769274370b196e78dee2cdbd5",
      "value": "Downloading: 100%"
     }
    },
    "52504c5b3c244ed6afc23e09e2dd0427": {
     "model_module": "@jupyter-widgets/controls",
     "model_module_version": "1.5.0",
     "model_name": "DescriptionStyleModel",
     "state": {
      "_model_module": "@jupyter-widgets/controls",
      "_model_module_version": "1.5.0",
      "_model_name": "DescriptionStyleModel",
      "_view_count": null,
      "_view_module": "@jupyter-widgets/base",
      "_view_module_version": "1.2.0",
      "_view_name": "StyleView",
      "description_width": ""
     }
    },
    "52ade58217cf467d82a5fa681a879e95": {
     "model_module": "@jupyter-widgets/controls",
     "model_module_version": "1.5.0",
     "model_name": "ProgressStyleModel",
     "state": {
      "_model_module": "@jupyter-widgets/controls",
      "_model_module_version": "1.5.0",
      "_model_name": "ProgressStyleModel",
      "_view_count": null,
      "_view_module": "@jupyter-widgets/base",
      "_view_module_version": "1.2.0",
      "_view_name": "StyleView",
      "bar_color": null,
      "description_width": ""
     }
    },
    "63c6a537f7d543f6a3300efb5757f382": {
     "model_module": "@jupyter-widgets/controls",
     "model_module_version": "1.5.0",
     "model_name": "HTMLModel",
     "state": {
      "_dom_classes": [],
      "_model_module": "@jupyter-widgets/controls",
      "_model_module_version": "1.5.0",
      "_model_name": "HTMLModel",
      "_view_count": null,
      "_view_module": "@jupyter-widgets/controls",
      "_view_module_version": "1.5.0",
      "_view_name": "HTMLView",
      "description": "",
      "description_tooltip": null,
      "layout": "IPY_MODEL_bd5267a23b6f42f8b6ebbf7ea6dacc3a",
      "placeholder": "​",
      "style": "IPY_MODEL_e22dda3f64d84592ba31cc185eb31b89",
      "value": "Downloading: 100%"
     }
    },
    "64814db20fe34c1ea63ae99de70c5276": {
     "model_module": "@jupyter-widgets/base",
     "model_module_version": "1.2.0",
     "model_name": "LayoutModel",
     "state": {
      "_model_module": "@jupyter-widgets/base",
      "_model_module_version": "1.2.0",
      "_model_name": "LayoutModel",
      "_view_count": null,
      "_view_module": "@jupyter-widgets/base",
      "_view_module_version": "1.2.0",
      "_view_name": "LayoutView",
      "align_content": null,
      "align_items": null,
      "align_self": null,
      "border": null,
      "bottom": null,
      "display": null,
      "flex": null,
      "flex_flow": null,
      "grid_area": null,
      "grid_auto_columns": null,
      "grid_auto_flow": null,
      "grid_auto_rows": null,
      "grid_column": null,
      "grid_gap": null,
      "grid_row": null,
      "grid_template_areas": null,
      "grid_template_columns": null,
      "grid_template_rows": null,
      "height": null,
      "justify_content": null,
      "justify_items": null,
      "left": null,
      "margin": null,
      "max_height": null,
      "max_width": null,
      "min_height": null,
      "min_width": null,
      "object_fit": null,
      "object_position": null,
      "order": null,
      "overflow": null,
      "overflow_x": null,
      "overflow_y": null,
      "padding": null,
      "right": null,
      "top": null,
      "visibility": null,
      "width": null
     }
    },
    "8733b1f4ff274b288d7f53af46dbcfe3": {
     "model_module": "@jupyter-widgets/controls",
     "model_module_version": "1.5.0",
     "model_name": "FloatProgressModel",
     "state": {
      "_dom_classes": [],
      "_model_module": "@jupyter-widgets/controls",
      "_model_module_version": "1.5.0",
      "_model_name": "FloatProgressModel",
      "_view_count": null,
      "_view_module": "@jupyter-widgets/controls",
      "_view_module_version": "1.5.0",
      "_view_name": "ProgressView",
      "bar_style": "success",
      "description": "",
      "description_tooltip": null,
      "layout": "IPY_MODEL_b71189e9fc074054adc2969bed856f79",
      "max": 385,
      "min": 0,
      "orientation": "horizontal",
      "style": "IPY_MODEL_52ade58217cf467d82a5fa681a879e95",
      "value": 385
     }
    },
    "95ddcec769274370b196e78dee2cdbd5": {
     "model_module": "@jupyter-widgets/controls",
     "model_module_version": "1.5.0",
     "model_name": "DescriptionStyleModel",
     "state": {
      "_model_module": "@jupyter-widgets/controls",
      "_model_module_version": "1.5.0",
      "_model_name": "DescriptionStyleModel",
      "_view_count": null,
      "_view_module": "@jupyter-widgets/base",
      "_view_module_version": "1.2.0",
      "_view_name": "StyleView",
      "description_width": ""
     }
    },
    "9ca6ed974c1740f8afb02b80a7234089": {
     "model_module": "@jupyter-widgets/base",
     "model_module_version": "1.2.0",
     "model_name": "LayoutModel",
     "state": {
      "_model_module": "@jupyter-widgets/base",
      "_model_module_version": "1.2.0",
      "_model_name": "LayoutModel",
      "_view_count": null,
      "_view_module": "@jupyter-widgets/base",
      "_view_module_version": "1.2.0",
      "_view_name": "LayoutView",
      "align_content": null,
      "align_items": null,
      "align_self": null,
      "border": null,
      "bottom": null,
      "display": null,
      "flex": null,
      "flex_flow": null,
      "grid_area": null,
      "grid_auto_columns": null,
      "grid_auto_flow": null,
      "grid_auto_rows": null,
      "grid_column": null,
      "grid_gap": null,
      "grid_row": null,
      "grid_template_areas": null,
      "grid_template_columns": null,
      "grid_template_rows": null,
      "height": null,
      "justify_content": null,
      "justify_items": null,
      "left": null,
      "margin": null,
      "max_height": null,
      "max_width": null,
      "min_height": null,
      "min_width": null,
      "object_fit": null,
      "object_position": null,
      "order": null,
      "overflow": null,
      "overflow_x": null,
      "overflow_y": null,
      "padding": null,
      "right": null,
      "top": null,
      "visibility": null,
      "width": null
     }
    },
    "a6e3ffd7684f49d2830fb51472c100eb": {
     "model_module": "@jupyter-widgets/controls",
     "model_module_version": "1.5.0",
     "model_name": "HTMLModel",
     "state": {
      "_dom_classes": [],
      "_model_module": "@jupyter-widgets/controls",
      "_model_module_version": "1.5.0",
      "_model_name": "HTMLModel",
      "_view_count": null,
      "_view_module": "@jupyter-widgets/controls",
      "_view_module_version": "1.5.0",
      "_view_name": "HTMLView",
      "description": "",
      "description_tooltip": null,
      "layout": "IPY_MODEL_350248e0b6564fde9e5bc1d4e3d4b170",
      "placeholder": "​",
      "style": "IPY_MODEL_d8277ba75efa45e393bf5e1bca173035",
      "value": " 385/385 [00:00&lt;00:00, 8.33kB/s]"
     }
    },
    "a9cf8a8164614074924ce621f5278b6c": {
     "model_module": "@jupyter-widgets/controls",
     "model_module_version": "1.5.0",
     "model_name": "HBoxModel",
     "state": {
      "_dom_classes": [],
      "_model_module": "@jupyter-widgets/controls",
      "_model_module_version": "1.5.0",
      "_model_name": "HBoxModel",
      "_view_count": null,
      "_view_module": "@jupyter-widgets/controls",
      "_view_module_version": "1.5.0",
      "_view_name": "HBoxView",
      "box_style": "",
      "children": [
       "IPY_MODEL_3cbcfaed137844ffbcaf2c10e4d8003e",
       "IPY_MODEL_8733b1f4ff274b288d7f53af46dbcfe3",
       "IPY_MODEL_a6e3ffd7684f49d2830fb51472c100eb"
      ],
      "layout": "IPY_MODEL_c2c4e6b25caa45d599b7ae148161fa7d"
     }
    },
    "ae08364b30584a059e9bf34a492a976d": {
     "model_module": "@jupyter-widgets/controls",
     "model_module_version": "1.5.0",
     "model_name": "ProgressStyleModel",
     "state": {
      "_model_module": "@jupyter-widgets/controls",
      "_model_module_version": "1.5.0",
      "_model_name": "ProgressStyleModel",
      "_view_count": null,
      "_view_module": "@jupyter-widgets/base",
      "_view_module_version": "1.2.0",
      "_view_name": "StyleView",
      "bar_color": null,
      "description_width": ""
     }
    },
    "b2510150c1ef464fb267494b376fe4fb": {
     "model_module": "@jupyter-widgets/base",
     "model_module_version": "1.2.0",
     "model_name": "LayoutModel",
     "state": {
      "_model_module": "@jupyter-widgets/base",
      "_model_module_version": "1.2.0",
      "_model_name": "LayoutModel",
      "_view_count": null,
      "_view_module": "@jupyter-widgets/base",
      "_view_module_version": "1.2.0",
      "_view_name": "LayoutView",
      "align_content": null,
      "align_items": null,
      "align_self": null,
      "border": null,
      "bottom": null,
      "display": null,
      "flex": null,
      "flex_flow": null,
      "grid_area": null,
      "grid_auto_columns": null,
      "grid_auto_flow": null,
      "grid_auto_rows": null,
      "grid_column": null,
      "grid_gap": null,
      "grid_row": null,
      "grid_template_areas": null,
      "grid_template_columns": null,
      "grid_template_rows": null,
      "height": null,
      "justify_content": null,
      "justify_items": null,
      "left": null,
      "margin": null,
      "max_height": null,
      "max_width": null,
      "min_height": null,
      "min_width": null,
      "object_fit": null,
      "object_position": null,
      "order": null,
      "overflow": null,
      "overflow_x": null,
      "overflow_y": null,
      "padding": null,
      "right": null,
      "top": null,
      "visibility": null,
      "width": null
     }
    },
    "b71189e9fc074054adc2969bed856f79": {
     "model_module": "@jupyter-widgets/base",
     "model_module_version": "1.2.0",
     "model_name": "LayoutModel",
     "state": {
      "_model_module": "@jupyter-widgets/base",
      "_model_module_version": "1.2.0",
      "_model_name": "LayoutModel",
      "_view_count": null,
      "_view_module": "@jupyter-widgets/base",
      "_view_module_version": "1.2.0",
      "_view_name": "LayoutView",
      "align_content": null,
      "align_items": null,
      "align_self": null,
      "border": null,
      "bottom": null,
      "display": null,
      "flex": null,
      "flex_flow": null,
      "grid_area": null,
      "grid_auto_columns": null,
      "grid_auto_flow": null,
      "grid_auto_rows": null,
      "grid_column": null,
      "grid_gap": null,
      "grid_row": null,
      "grid_template_areas": null,
      "grid_template_columns": null,
      "grid_template_rows": null,
      "height": null,
      "justify_content": null,
      "justify_items": null,
      "left": null,
      "margin": null,
      "max_height": null,
      "max_width": null,
      "min_height": null,
      "min_width": null,
      "object_fit": null,
      "object_position": null,
      "order": null,
      "overflow": null,
      "overflow_x": null,
      "overflow_y": null,
      "padding": null,
      "right": null,
      "top": null,
      "visibility": null,
      "width": null
     }
    },
    "bcddef53000f44758d8728643120f9e2": {
     "model_module": "@jupyter-widgets/controls",
     "model_module_version": "1.5.0",
     "model_name": "DescriptionStyleModel",
     "state": {
      "_model_module": "@jupyter-widgets/controls",
      "_model_module_version": "1.5.0",
      "_model_name": "DescriptionStyleModel",
      "_view_count": null,
      "_view_module": "@jupyter-widgets/base",
      "_view_module_version": "1.2.0",
      "_view_name": "StyleView",
      "description_width": ""
     }
    },
    "bd5267a23b6f42f8b6ebbf7ea6dacc3a": {
     "model_module": "@jupyter-widgets/base",
     "model_module_version": "1.2.0",
     "model_name": "LayoutModel",
     "state": {
      "_model_module": "@jupyter-widgets/base",
      "_model_module_version": "1.2.0",
      "_model_name": "LayoutModel",
      "_view_count": null,
      "_view_module": "@jupyter-widgets/base",
      "_view_module_version": "1.2.0",
      "_view_name": "LayoutView",
      "align_content": null,
      "align_items": null,
      "align_self": null,
      "border": null,
      "bottom": null,
      "display": null,
      "flex": null,
      "flex_flow": null,
      "grid_area": null,
      "grid_auto_columns": null,
      "grid_auto_flow": null,
      "grid_auto_rows": null,
      "grid_column": null,
      "grid_gap": null,
      "grid_row": null,
      "grid_template_areas": null,
      "grid_template_columns": null,
      "grid_template_rows": null,
      "height": null,
      "justify_content": null,
      "justify_items": null,
      "left": null,
      "margin": null,
      "max_height": null,
      "max_width": null,
      "min_height": null,
      "min_width": null,
      "object_fit": null,
      "object_position": null,
      "order": null,
      "overflow": null,
      "overflow_x": null,
      "overflow_y": null,
      "padding": null,
      "right": null,
      "top": null,
      "visibility": null,
      "width": null
     }
    },
    "c127437fc26044108d77312ff3ea3b32": {
     "model_module": "@jupyter-widgets/base",
     "model_module_version": "1.2.0",
     "model_name": "LayoutModel",
     "state": {
      "_model_module": "@jupyter-widgets/base",
      "_model_module_version": "1.2.0",
      "_model_name": "LayoutModel",
      "_view_count": null,
      "_view_module": "@jupyter-widgets/base",
      "_view_module_version": "1.2.0",
      "_view_name": "LayoutView",
      "align_content": null,
      "align_items": null,
      "align_self": null,
      "border": null,
      "bottom": null,
      "display": null,
      "flex": null,
      "flex_flow": null,
      "grid_area": null,
      "grid_auto_columns": null,
      "grid_auto_flow": null,
      "grid_auto_rows": null,
      "grid_column": null,
      "grid_gap": null,
      "grid_row": null,
      "grid_template_areas": null,
      "grid_template_columns": null,
      "grid_template_rows": null,
      "height": null,
      "justify_content": null,
      "justify_items": null,
      "left": null,
      "margin": null,
      "max_height": null,
      "max_width": null,
      "min_height": null,
      "min_width": null,
      "object_fit": null,
      "object_position": null,
      "order": null,
      "overflow": null,
      "overflow_x": null,
      "overflow_y": null,
      "padding": null,
      "right": null,
      "top": null,
      "visibility": null,
      "width": null
     }
    },
    "c2c4e6b25caa45d599b7ae148161fa7d": {
     "model_module": "@jupyter-widgets/base",
     "model_module_version": "1.2.0",
     "model_name": "LayoutModel",
     "state": {
      "_model_module": "@jupyter-widgets/base",
      "_model_module_version": "1.2.0",
      "_model_name": "LayoutModel",
      "_view_count": null,
      "_view_module": "@jupyter-widgets/base",
      "_view_module_version": "1.2.0",
      "_view_name": "LayoutView",
      "align_content": null,
      "align_items": null,
      "align_self": null,
      "border": null,
      "bottom": null,
      "display": null,
      "flex": null,
      "flex_flow": null,
      "grid_area": null,
      "grid_auto_columns": null,
      "grid_auto_flow": null,
      "grid_auto_rows": null,
      "grid_column": null,
      "grid_gap": null,
      "grid_row": null,
      "grid_template_areas": null,
      "grid_template_columns": null,
      "grid_template_rows": null,
      "height": null,
      "justify_content": null,
      "justify_items": null,
      "left": null,
      "margin": null,
      "max_height": null,
      "max_width": null,
      "min_height": null,
      "min_width": null,
      "object_fit": null,
      "object_position": null,
      "order": null,
      "overflow": null,
      "overflow_x": null,
      "overflow_y": null,
      "padding": null,
      "right": null,
      "top": null,
      "visibility": null,
      "width": null
     }
    },
    "d33375937e49459ca2b5add12b14ac98": {
     "model_module": "@jupyter-widgets/base",
     "model_module_version": "1.2.0",
     "model_name": "LayoutModel",
     "state": {
      "_model_module": "@jupyter-widgets/base",
      "_model_module_version": "1.2.0",
      "_model_name": "LayoutModel",
      "_view_count": null,
      "_view_module": "@jupyter-widgets/base",
      "_view_module_version": "1.2.0",
      "_view_name": "LayoutView",
      "align_content": null,
      "align_items": null,
      "align_self": null,
      "border": null,
      "bottom": null,
      "display": null,
      "flex": null,
      "flex_flow": null,
      "grid_area": null,
      "grid_auto_columns": null,
      "grid_auto_flow": null,
      "grid_auto_rows": null,
      "grid_column": null,
      "grid_gap": null,
      "grid_row": null,
      "grid_template_areas": null,
      "grid_template_columns": null,
      "grid_template_rows": null,
      "height": null,
      "justify_content": null,
      "justify_items": null,
      "left": null,
      "margin": null,
      "max_height": null,
      "max_width": null,
      "min_height": null,
      "min_width": null,
      "object_fit": null,
      "object_position": null,
      "order": null,
      "overflow": null,
      "overflow_x": null,
      "overflow_y": null,
      "padding": null,
      "right": null,
      "top": null,
      "visibility": null,
      "width": null
     }
    },
    "d8277ba75efa45e393bf5e1bca173035": {
     "model_module": "@jupyter-widgets/controls",
     "model_module_version": "1.5.0",
     "model_name": "DescriptionStyleModel",
     "state": {
      "_model_module": "@jupyter-widgets/controls",
      "_model_module_version": "1.5.0",
      "_model_name": "DescriptionStyleModel",
      "_view_count": null,
      "_view_module": "@jupyter-widgets/base",
      "_view_module_version": "1.2.0",
      "_view_name": "StyleView",
      "description_width": ""
     }
    },
    "e22dda3f64d84592ba31cc185eb31b89": {
     "model_module": "@jupyter-widgets/controls",
     "model_module_version": "1.5.0",
     "model_name": "DescriptionStyleModel",
     "state": {
      "_model_module": "@jupyter-widgets/controls",
      "_model_module_version": "1.5.0",
      "_model_name": "DescriptionStyleModel",
      "_view_count": null,
      "_view_module": "@jupyter-widgets/base",
      "_view_module_version": "1.2.0",
      "_view_name": "StyleView",
      "description_width": ""
     }
    },
    "ee00f4cb7aaf441fa2eab188ecab3d09": {
     "model_module": "@jupyter-widgets/controls",
     "model_module_version": "1.5.0",
     "model_name": "ProgressStyleModel",
     "state": {
      "_model_module": "@jupyter-widgets/controls",
      "_model_module_version": "1.5.0",
      "_model_name": "ProgressStyleModel",
      "_view_count": null,
      "_view_module": "@jupyter-widgets/base",
      "_view_module_version": "1.2.0",
      "_view_name": "StyleView",
      "bar_color": null,
      "description_width": ""
     }
    },
    "eff099adefca4f78a6754de43a9edfb0": {
     "model_module": "@jupyter-widgets/controls",
     "model_module_version": "1.5.0",
     "model_name": "FloatProgressModel",
     "state": {
      "_dom_classes": [],
      "_model_module": "@jupyter-widgets/controls",
      "_model_module_version": "1.5.0",
      "_model_name": "FloatProgressModel",
      "_view_count": null,
      "_view_module": "@jupyter-widgets/controls",
      "_view_module_version": "1.5.0",
      "_view_name": "ProgressView",
      "bar_style": "success",
      "description": "",
      "description_tooltip": null,
      "layout": "IPY_MODEL_64814db20fe34c1ea63ae99de70c5276",
      "max": 442301670,
      "min": 0,
      "orientation": "horizontal",
      "style": "IPY_MODEL_ee00f4cb7aaf441fa2eab188ecab3d09",
      "value": 442301670
     }
    },
    "f1220c8e1df945b09d27ebdccc1a3659": {
     "model_module": "@jupyter-widgets/controls",
     "model_module_version": "1.5.0",
     "model_name": "HTMLModel",
     "state": {
      "_dom_classes": [],
      "_model_module": "@jupyter-widgets/controls",
      "_model_module_version": "1.5.0",
      "_model_name": "HTMLModel",
      "_view_count": null,
      "_view_module": "@jupyter-widgets/controls",
      "_view_module_version": "1.5.0",
      "_view_name": "HTMLView",
      "description": "",
      "description_tooltip": null,
      "layout": "IPY_MODEL_9ca6ed974c1740f8afb02b80a7234089",
      "placeholder": "​",
      "style": "IPY_MODEL_bcddef53000f44758d8728643120f9e2",
      "value": " 422M/422M [00:15&lt;00:00, 30.6MB/s]"
     }
    },
    "f688343d161c4c89989fb52f452c9393": {
     "model_module": "@jupyter-widgets/controls",
     "model_module_version": "1.5.0",
     "model_name": "DescriptionStyleModel",
     "state": {
      "_model_module": "@jupyter-widgets/controls",
      "_model_module_version": "1.5.0",
      "_model_name": "DescriptionStyleModel",
      "_view_count": null,
      "_view_module": "@jupyter-widgets/base",
      "_view_module_version": "1.2.0",
      "_view_name": "StyleView",
      "description_width": ""
     }
    },
    "fdc2dd90e3924839bc34407d81373f35": {
     "model_module": "@jupyter-widgets/base",
     "model_module_version": "1.2.0",
     "model_name": "LayoutModel",
     "state": {
      "_model_module": "@jupyter-widgets/base",
      "_model_module_version": "1.2.0",
      "_model_name": "LayoutModel",
      "_view_count": null,
      "_view_module": "@jupyter-widgets/base",
      "_view_module_version": "1.2.0",
      "_view_name": "LayoutView",
      "align_content": null,
      "align_items": null,
      "align_self": null,
      "border": null,
      "bottom": null,
      "display": null,
      "flex": null,
      "flex_flow": null,
      "grid_area": null,
      "grid_auto_columns": null,
      "grid_auto_flow": null,
      "grid_auto_rows": null,
      "grid_column": null,
      "grid_gap": null,
      "grid_row": null,
      "grid_template_areas": null,
      "grid_template_columns": null,
      "grid_template_rows": null,
      "height": null,
      "justify_content": null,
      "justify_items": null,
      "left": null,
      "margin": null,
      "max_height": null,
      "max_width": null,
      "min_height": null,
      "min_width": null,
      "object_fit": null,
      "object_position": null,
      "order": null,
      "overflow": null,
      "overflow_x": null,
      "overflow_y": null,
      "padding": null,
      "right": null,
      "top": null,
      "visibility": null,
      "width": null
     }
    }
   }
  }
 },
 "nbformat": 4,
 "nbformat_minor": 1
}
